{
  "nbformat": 4,
  "nbformat_minor": 0,
  "metadata": {
    "colab": {
      "provenance": [],
      "authorship_tag": "ABX9TyM8mzr2gZhwDdsB4NJ8zBBA",
      "include_colab_link": true
    },
    "kernelspec": {
      "name": "python3",
      "display_name": "Python 3"
    },
    "language_info": {
      "name": "python"
    }
  },
  "cells": [
    {
      "cell_type": "markdown",
      "metadata": {
        "id": "view-in-github",
        "colab_type": "text"
      },
      "source": [
        "<a href=\"https://colab.research.google.com/github/abhayarya91/abhay/blob/main/abhay.ipynb\" target=\"_parent\"><img src=\"https://colab.research.google.com/assets/colab-badge.svg\" alt=\"Open In Colab\"/></a>"
      ]
    },
    {
      "cell_type": "code",
      "execution_count": 3,
      "metadata": {
        "colab": {
          "base_uri": "https://localhost:8080/"
        },
        "id": "oZnhZVhlvPhj",
        "outputId": "98995b3b-704d-4f81-a0c0-788c9f6b3af7"
      },
      "outputs": [
        {
          "output_type": "stream",
          "name": "stdout",
          "text": [
            "0    a\n",
            "1    b\n",
            "2    h\n",
            "3    y\n",
            "4    s\n",
            "dtype: object\n"
          ]
        }
      ],
      "source": [
        "import pandas as pd\n",
        "import numpy as np\n",
        "abhay = (['a','b','h','y','s'])\n",
        "y = pd.Series(abhay)\n",
        "print(y)"
      ]
    },
    {
      "cell_type": "code",
      "source": [],
      "metadata": {
        "id": "A573uvgywz4y"
      },
      "execution_count": null,
      "outputs": []
    },
    {
      "cell_type": "code",
      "source": [
        "import pandas as pd\n",
        "import numpy as np\n",
        "h = pd.Series(['abhay','arya','aryan','mailk'])\n",
        "h.map({'aryan':'brother'})\n"
      ],
      "metadata": {
        "colab": {
          "base_uri": "https://localhost:8080/"
        },
        "id": "9o4AAmkEwMUU",
        "outputId": "7a3e9387-05c6-43d7-ecc6-1042745a24b5"
      },
      "execution_count": 4,
      "outputs": [
        {
          "output_type": "execute_result",
          "data": {
            "text/plain": [
              "0        NaN\n",
              "1        NaN\n",
              "2    brother\n",
              "3        NaN\n",
              "dtype: object"
            ]
          },
          "metadata": {},
          "execution_count": 4
        }
      ]
    },
    {
      "cell_type": "code",
      "source": [
        "import pandas as pd\n",
        "info = {'one':pd.Series([1,2,3,4,5],index=['a','b','c','d','e']),\n",
        "        'two':pd.Series([1,2,3,4,5,6,7,8],index=['a','b','c','d','e','f','g','h'])}\n",
        "b1 = pd.DataFrame(info)\n",
        "print(b1['one'])\n",
        ""
      ],
      "metadata": {
        "colab": {
          "base_uri": "https://localhost:8080/"
        },
        "id": "djRH20C_xiQH",
        "outputId": "25be1ddf-dc4d-43d1-ed53-cfb40f75cf94"
      },
      "execution_count": 6,
      "outputs": [
        {
          "output_type": "stream",
          "name": "stdout",
          "text": [
            "a    1.0\n",
            "b    2.0\n",
            "c    3.0\n",
            "d    4.0\n",
            "e    5.0\n",
            "f    NaN\n",
            "g    NaN\n",
            "h    NaN\n",
            "Name: one, dtype: float64\n"
          ]
        }
      ]
    },
    {
      "cell_type": "code",
      "source": [
        "import array\n",
        "arr = array.array('i',[2,4,6,8,10,12])\n",
        "print(\"New created array:\",end=\" \")\n",
        "for i in range (0,5):\n",
        "  print(arr[i],end=\" \")\n",
        "print(\"\\r\")\n"
      ],
      "metadata": {
        "colab": {
          "base_uri": "https://localhost:8080/"
        },
        "id": "cCOLuRYu0101",
        "outputId": "5e543bfd-7338-41b7-eb48-78100f27da72"
      },
      "execution_count": 12,
      "outputs": [
        {
          "output_type": "stream",
          "name": "stdout",
          "text": [
            "New created array: 2 4 6 8 10 \r\n"
          ]
        }
      ]
    },
    {
      "cell_type": "code",
      "source": [
        "import pandas as pd\n",
        "\n",
        "dict = {'name':['abhay','arya','Malik'],\n",
        "        'age':[\"18\",\"17\",\"19\"]}\n",
        "info = pd.DataFrame(dict,index = [True,True,False])\n",
        "print(info)"
      ],
      "metadata": {
        "colab": {
          "base_uri": "https://localhost:8080/"
        },
        "id": "TPkqiTXe2APD",
        "outputId": "f9dff608-cafb-4494-ed2c-f9a8d45ea771"
      },
      "execution_count": 14,
      "outputs": [
        {
          "output_type": "stream",
          "name": "stdout",
          "text": [
            "        name age\n",
            "True   abhay  18\n",
            "True    arya  17\n",
            "False  Malik  19\n"
          ]
        }
      ]
    },
    {
      "source": [],
      "cell_type": "code",
      "metadata": {
        "id": "yTRIpDjh3QF8"
      },
      "execution_count": null,
      "outputs": []
    }
  ]
}